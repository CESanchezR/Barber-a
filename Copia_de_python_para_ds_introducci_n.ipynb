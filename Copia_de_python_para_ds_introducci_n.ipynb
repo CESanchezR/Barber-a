{
  "nbformat": 4,
  "nbformat_minor": 0,
  "metadata": {
    "colab": {
      "provenance": [],
      "toc_visible": true,
      "collapsed_sections": [
        "-1lI-KWYfItO",
        "SYFgYn-4w1tY",
        "Hxmu3GrNHJQ2",
        "01wHX_wQIfdN",
        "rzma-mNRQUwv",
        "MexlsfenTyqu",
        "8qcrT93w5Him",
        "WAyXC3wFG9uO"
      ],
      "mount_file_id": "1Y47R0AvV5dOIN3_ANQjlmnaVUEQf3K2M",
      "authorship_tag": "ABX9TyNjr0xCHBZ2p11AiZWhBohr",
      "include_colab_link": true
    },
    "kernelspec": {
      "name": "python3",
      "display_name": "Python 3"
    },
    "language_info": {
      "name": "python"
    }
  },
  "cells": [
    {
      "cell_type": "markdown",
      "metadata": {
        "id": "view-in-github",
        "colab_type": "text"
      },
      "source": [
        "<a href=\"https://colab.research.google.com/github/CESanchezR/Barber-a/blob/master/Copia_de_python_para_ds_introducci_n.ipynb\" target=\"_parent\"><img src=\"https://colab.research.google.com/assets/colab-badge.svg\" alt=\"Open In Colab\"/></a>"
      ]
    },
    {
      "cell_type": "markdown",
      "source": [
        "#**Python para DS - Introcucción al Lenguaje**"
      ],
      "metadata": {
        "id": "-1lI-KWYfItO"
      }
    },
    {
      "cell_type": "code",
      "source": [
        "1 + 1"
      ],
      "metadata": {
        "colab": {
          "base_uri": "https://localhost:8080/"
        },
        "id": "ZeF93K3QfiAP",
        "outputId": "a81dd060-5762-4848-d7ac-f059b71e1cfa"
      },
      "execution_count": null,
      "outputs": [
        {
          "output_type": "execute_result",
          "data": {
            "text/plain": [
              "2"
            ]
          },
          "metadata": {},
          "execution_count": 3
        }
      ]
    },
    {
      "cell_type": "code",
      "source": [
        "'carlos'"
      ],
      "metadata": {
        "colab": {
          "base_uri": "https://localhost:8080/",
          "height": 36
        },
        "id": "CsFxiKIIf5au",
        "outputId": "acfc1221-c049-435c-faec-c328041d8b6d"
      },
      "execution_count": null,
      "outputs": [
        {
          "output_type": "execute_result",
          "data": {
            "text/plain": [
              "'carlos'"
            ],
            "application/vnd.google.colaboratory.intrinsic+json": {
              "type": "string"
            }
          },
          "metadata": {},
          "execution_count": 39
        }
      ]
    },
    {
      "cell_type": "code",
      "source": [
        "nombre = 'Carlos'"
      ],
      "metadata": {
        "id": "Py5x1jD_gdSO"
      },
      "execution_count": null,
      "outputs": []
    },
    {
      "cell_type": "code",
      "source": [
        "nombre"
      ],
      "metadata": {
        "colab": {
          "base_uri": "https://localhost:8080/",
          "height": 36
        },
        "id": "SCneAUtSgkZk",
        "outputId": "a00946e5-6170-4ab7-83a9-40643aa7e524"
      },
      "execution_count": null,
      "outputs": [
        {
          "output_type": "execute_result",
          "data": {
            "text/plain": [
              "'Carlos'"
            ],
            "application/vnd.google.colaboratory.intrinsic+json": {
              "type": "string"
            }
          },
          "metadata": {},
          "execution_count": 6
        }
      ]
    },
    {
      "cell_type": "code",
      "source": [
        "edad = 48"
      ],
      "metadata": {
        "id": "rvsu3M4Zgq_7"
      },
      "execution_count": null,
      "outputs": []
    },
    {
      "cell_type": "code",
      "source": [
        "edad"
      ],
      "metadata": {
        "colab": {
          "base_uri": "https://localhost:8080/"
        },
        "id": "rTw1CqlEgxdy",
        "outputId": "eeb5ba26-e263-46aa-c9e7-72931d9c4136"
      },
      "execution_count": null,
      "outputs": [
        {
          "output_type": "execute_result",
          "data": {
            "text/plain": [
              "18"
            ]
          },
          "metadata": {},
          "execution_count": 55
        }
      ]
    },
    {
      "cell_type": "markdown",
      "source": [
        "#Mi primera función"
      ],
      "metadata": {
        "id": "SYFgYn-4w1tY"
      }
    },
    {
      "cell_type": "code",
      "source": [
        "print('El nombre es Carlos y su edad es 48 años')"
      ],
      "metadata": {
        "colab": {
          "base_uri": "https://localhost:8080/"
        },
        "id": "_4pU-dBFg1Ra",
        "outputId": "9b5d53b3-bc26-42af-f589-971b717d10c8"
      },
      "execution_count": null,
      "outputs": [
        {
          "output_type": "stream",
          "name": "stdout",
          "text": [
            "El nombre es Carlos y su edad es 48 años\n"
          ]
        }
      ]
    },
    {
      "cell_type": "code",
      "source": [
        "print(f'El nombre es {nombre} y su edad es {edad} años')"
      ],
      "metadata": {
        "colab": {
          "base_uri": "https://localhost:8080/"
        },
        "id": "ND3F7qjmyO83",
        "outputId": "9be0acbb-985d-406a-f6c0-2df5d31c87a2"
      },
      "execution_count": null,
      "outputs": [
        {
          "output_type": "stream",
          "name": "stdout",
          "text": [
            "El nombre es Carlos y su edad es 18 años\n"
          ]
        }
      ]
    },
    {
      "cell_type": "code",
      "source": [
        "def saludar():\n",
        "  nombre = input('Digite su nombre:')\n",
        "  print (f'Hola {nombre} sea bienvenid@!!!')"
      ],
      "metadata": {
        "id": "IItN4JWkyeFl"
      },
      "execution_count": null,
      "outputs": []
    },
    {
      "cell_type": "code",
      "source": [
        "saludar()"
      ],
      "metadata": {
        "colab": {
          "base_uri": "https://localhost:8080/"
        },
        "id": "r83UlvPbzYFV",
        "outputId": "ede5d60e-4be9-4cd9-9017-d8852e746c34"
      },
      "execution_count": null,
      "outputs": [
        {
          "output_type": "stream",
          "name": "stdout",
          "text": [
            "Digite su nombre:carlos\n",
            "Hola carlos sea bienvenid@!!!\n"
          ]
        }
      ]
    },
    {
      "cell_type": "code",
      "source": [
        "saludar()"
      ],
      "metadata": {
        "colab": {
          "base_uri": "https://localhost:8080/"
        },
        "id": "yqkDx-esze10",
        "outputId": "6e3806aa-bcff-42b5-fff0-01da1e601ed8"
      },
      "execution_count": null,
      "outputs": [
        {
          "output_type": "stream",
          "name": "stdout",
          "text": [
            "Digite su nombre:carlos\n",
            "Hola carlos sea bienvenid@!!!\n"
          ]
        }
      ]
    },
    {
      "cell_type": "markdown",
      "source": [
        "#Parámetros"
      ],
      "metadata": {
        "id": "Hxmu3GrNHJQ2"
      }
    },
    {
      "cell_type": "code",
      "source": [
        "nombre = 'Andrea'"
      ],
      "metadata": {
        "id": "926NN2Ocz3MD"
      },
      "execution_count": null,
      "outputs": []
    },
    {
      "cell_type": "code",
      "source": [
        "def saludar_con_parametros(nombre):\n",
        "  print(f'Hola {nombre} sea bienvenid@!!!')"
      ],
      "metadata": {
        "id": "Bu2kjjR4Gh8u"
      },
      "execution_count": null,
      "outputs": []
    },
    {
      "cell_type": "code",
      "source": [
        "saludar_con_parametros(nombre)"
      ],
      "metadata": {
        "colab": {
          "base_uri": "https://localhost:8080/"
        },
        "id": "bGGovw-SG_6u",
        "outputId": "ff68e3cd-a944-4382-c1b9-06e776150268"
      },
      "execution_count": null,
      "outputs": [
        {
          "output_type": "stream",
          "name": "stdout",
          "text": [
            "Hola Andrea sea bienvenid@!!!\n"
          ]
        }
      ]
    },
    {
      "cell_type": "markdown",
      "source": [
        "#Velocidad"
      ],
      "metadata": {
        "id": "01wHX_wQIfdN"
      }
    },
    {
      "cell_type": "code",
      "source": [
        "def velocidad(espacio, tiempo):\n",
        "  v = espacio / tiempo\n",
        "  print(f'Velocidad:{v} m/s')"
      ],
      "metadata": {
        "id": "VRoUBHX8InlO"
      },
      "execution_count": null,
      "outputs": []
    },
    {
      "cell_type": "code",
      "source": [
        "velocidad(100,20)"
      ],
      "metadata": {
        "colab": {
          "base_uri": "https://localhost:8080/"
        },
        "id": "u1OY_wo_JRm-",
        "outputId": "b37d78a0-e911-43f4-f7a9-669815cb1903"
      },
      "execution_count": null,
      "outputs": [
        {
          "output_type": "stream",
          "name": "stdout",
          "text": [
            "Velocidad:5.0 m/s\n"
          ]
        }
      ]
    },
    {
      "cell_type": "markdown",
      "source": [
        "#Condicionales IF, Else"
      ],
      "metadata": {
        "id": "rzma-mNRQUwv"
      }
    },
    {
      "cell_type": "code",
      "source": [
        "edad = 12"
      ],
      "metadata": {
        "id": "GZNeXfF6QVEP"
      },
      "execution_count": null,
      "outputs": []
    },
    {
      "cell_type": "code",
      "source": [
        "def verificar_si_puede_conducir(edad):\n",
        "  if edad >= 18:\n",
        "    print(\"Usted tiene edad suficiente para conducir\")\n",
        "  else :\n",
        "    print(\"Usted no tiene edad suficiente para conducir\")\n",
        "verificar_si_puede_conducir(edad)\n"
      ],
      "metadata": {
        "colab": {
          "base_uri": "https://localhost:8080/"
        },
        "id": "W-fZykiiQbxG",
        "outputId": "8ad2a33b-07ed-47aa-e60e-fa3b1236fa3d"
      },
      "execution_count": null,
      "outputs": [
        {
          "output_type": "stream",
          "name": "stdout",
          "text": [
            "Usted no tiene edad suficiente para conducir\n"
          ]
        }
      ]
    },
    {
      "cell_type": "markdown",
      "source": [
        "#Ejercicio nps\n",
        "\n",
        "\n"
      ],
      "metadata": {
        "id": "MexlsfenTyqu"
      }
    },
    {
      "cell_type": "code",
      "source": [
        "def clasificar_nps(nota):\n",
        "  if nota <= 6:\n",
        "    print('El alumno es considerado Detractor')\n",
        "  else:\n",
        "    if nota <= 8:\n",
        "      print('El alumno es considerado Neutro')\n",
        "    else:\n",
        "      print('El alumno es considerado Promotor')\n",
        "\n",
        "clasificar_nps(9)\n"
      ],
      "metadata": {
        "colab": {
          "base_uri": "https://localhost:8080/"
        },
        "id": "a0ju619DTqif",
        "outputId": "973222a0-7770-4945-ff85-d309f6eb69bb"
      },
      "execution_count": null,
      "outputs": [
        {
          "output_type": "stream",
          "name": "stdout",
          "text": [
            "El alumno es considerado Promotor\n"
          ]
        }
      ]
    },
    {
      "cell_type": "markdown",
      "source": [
        "#Ciclos y bucles"
      ],
      "metadata": {
        "id": "8qcrT93w5Him"
      }
    },
    {
      "cell_type": "code",
      "source": [
        "#bucle fuera de la función\n",
        "edades = [18,15,12,45,50]\n",
        "def verificar_si_puede_conducir(edad):\n",
        "  if edad >= 18:\n",
        "    print(\"Usted tiene edad suficiente para conducir\")\n",
        "  else:\n",
        "    print(\"Usted No tiene edad suficiente para conducir\")\n",
        "for edad in edades:\n",
        "  verificar_si_puede_conducir(edad)"
      ],
      "metadata": {
        "colab": {
          "base_uri": "https://localhost:8080/"
        },
        "id": "wA_WpPuL5MZu",
        "outputId": "05a9a9e1-b241-4ae7-8150-8fbe5f95062d"
      },
      "execution_count": null,
      "outputs": [
        {
          "output_type": "stream",
          "name": "stdout",
          "text": [
            "Usted tiene edad suficiente para conducir\n",
            "Usted No tiene edad suficiente para conducir\n",
            "Usted No tiene edad suficiente para conducir\n",
            "Usted tiene edad suficiente para conducir\n",
            "Usted tiene edad suficiente para conducir\n"
          ]
        }
      ]
    },
    {
      "cell_type": "code",
      "source": [
        "#bucle dentro de la función\n",
        "edades = [18,15,12,45,50]\n",
        "\n",
        "def verificar_si_puede_conducir_con_bucle(edades):\n",
        "  for edad in edades:\n",
        "    if edad >= 18:\n",
        "      print(\"Usted tiene edad suficiente para conducir\")\n",
        "    else:\n",
        "      print(\"Usted No tiene edad suficiente para conducir\")\n",
        "\n",
        "verificar_si_puede_conducir_con_bucle(edades)"
      ],
      "metadata": {
        "colab": {
          "base_uri": "https://localhost:8080/"
        },
        "id": "rYpTuIhY6nMW",
        "outputId": "ab33801d-537c-4548-cccf-c28258b540b1"
      },
      "execution_count": null,
      "outputs": [
        {
          "output_type": "stream",
          "name": "stdout",
          "text": [
            "Usted tiene edad suficiente para conducir\n",
            "Usted No tiene edad suficiente para conducir\n",
            "Usted No tiene edad suficiente para conducir\n",
            "Usted tiene edad suficiente para conducir\n",
            "Usted tiene edad suficiente para conducir\n"
          ]
        }
      ]
    },
    {
      "cell_type": "markdown",
      "source": [
        "#Booleano"
      ],
      "metadata": {
        "id": "WAyXC3wFG9uO"
      }
    },
    {
      "cell_type": "code",
      "source": [
        "edad = 18"
      ],
      "metadata": {
        "id": "FjbDxKzUHB1W"
      },
      "execution_count": null,
      "outputs": []
    },
    {
      "cell_type": "code",
      "source": [
        "edad >= 18"
      ],
      "metadata": {
        "colab": {
          "base_uri": "https://localhost:8080/"
        },
        "id": "8zT5Kp7NHVxa",
        "outputId": "383e50c8-74e7-466f-e6bc-6b0753dc8c58"
      },
      "execution_count": null,
      "outputs": [
        {
          "output_type": "execute_result",
          "data": {
            "text/plain": [
              "True"
            ]
          },
          "metadata": {},
          "execution_count": 15
        }
      ]
    },
    {
      "cell_type": "code",
      "source": [
        "edad < 18"
      ],
      "metadata": {
        "colab": {
          "base_uri": "https://localhost:8080/"
        },
        "id": "2ahWwGAlHiQx",
        "outputId": "d6767c30-5dda-4c92-ba60-097edfacfdfd"
      },
      "execution_count": null,
      "outputs": [
        {
          "output_type": "execute_result",
          "data": {
            "text/plain": [
              "False"
            ]
          },
          "metadata": {},
          "execution_count": 16
        }
      ]
    },
    {
      "cell_type": "code",
      "source": [
        "edad == 18"
      ],
      "metadata": {
        "colab": {
          "base_uri": "https://localhost:8080/"
        },
        "id": "N2ywAUm9HnyJ",
        "outputId": "34d50c40-cec5-4296-ae63-09271d35f8fc"
      },
      "execution_count": null,
      "outputs": [
        {
          "output_type": "execute_result",
          "data": {
            "text/plain": [
              "True"
            ]
          },
          "metadata": {},
          "execution_count": 17
        }
      ]
    },
    {
      "cell_type": "code",
      "source": [
        "verificaciones = []\n",
        "edades = [13,15,20]\n",
        "\n",
        "def verificar_si_puede_conducir_bool(verificadiones,edades):\n",
        "  for edad in  edades:\n",
        "    if edad >= 18:\n",
        "      verificaciones.append(True)\n",
        "    else :\n",
        "     verificaciones.append(False)\n",
        "\n",
        "verificar_si_puede_conducir_bool(verificaciones,edades)"
      ],
      "metadata": {
        "id": "xJ1ZJXNoHt_Z"
      },
      "execution_count": null,
      "outputs": []
    },
    {
      "cell_type": "code",
      "source": [
        "verificaciones"
      ],
      "metadata": {
        "colab": {
          "base_uri": "https://localhost:8080/"
        },
        "id": "Ob9udRBcJDjb",
        "outputId": "5dc5e566-b4f7-448b-8ce2-5189f7ed342f"
      },
      "execution_count": null,
      "outputs": [
        {
          "output_type": "execute_result",
          "data": {
            "text/plain": [
              "[False, False, True]"
            ]
          },
          "metadata": {},
          "execution_count": 20
        }
      ]
    },
    {
      "cell_type": "code",
      "source": [
        "verificaciones = []\n",
        "edades = [13,15,20]\n",
        "\n",
        "def verificar_si_puede_conducir_bool(verificaciones,edades):\n",
        "  for edad in  edades:\n",
        "    if edad >= 18:\n",
        "      verificaciones.append(True)\n",
        "    else :\n",
        "     verificaciones.append(False)\n",
        "  for verificacion in verificaciones:\n",
        "    if verificacion == True:\n",
        "      print(\"Usted tiene edad suficiente para conducir\")\n",
        "    else:\n",
        "         print(\"Usted No tiene edad suficiente para conducir\")\n",
        "\n",
        "\n",
        "verificar_si_puede_conducir_bool(verificaciones,edades)"
      ],
      "metadata": {
        "colab": {
          "base_uri": "https://localhost:8080/"
        },
        "id": "-yhu_8zxJR1Z",
        "outputId": "419efa88-fda7-4a2a-957c-95e0a74342ce"
      },
      "execution_count": null,
      "outputs": [
        {
          "output_type": "stream",
          "name": "stdout",
          "text": [
            "Usted No tiene edad suficiente para conducir\n",
            "Usted No tiene edad suficiente para conducir\n",
            "Usted tiene edad suficiente para conducir\n"
          ]
        }
      ]
    },
    {
      "cell_type": "markdown",
      "source": [
        "#Lista con diferentes tipos de datos\n"
      ],
      "metadata": {
        "id": "XwZDjvXMLYgu"
      }
    },
    {
      "cell_type": "code",
      "source": [
        "persona = ['Mariana',28,True,'México']"
      ],
      "metadata": {
        "id": "EPAdnhz2LisN"
      },
      "execution_count": null,
      "outputs": []
    },
    {
      "cell_type": "code",
      "source": [
        "persona"
      ],
      "metadata": {
        "colab": {
          "base_uri": "https://localhost:8080/"
        },
        "id": "KE3fjH4fL2IB",
        "outputId": "39a9f7d5-111f-4714-a649-88b50f2582ec"
      },
      "execution_count": null,
      "outputs": [
        {
          "output_type": "execute_result",
          "data": {
            "text/plain": [
              "['Mariana', 28, True, 'México']"
            ]
          },
          "metadata": {},
          "execution_count": 28
        }
      ]
    },
    {
      "cell_type": "code",
      "source": [
        "for elemento in persona:\n",
        "  print('El elemento {elemento}de la lista es del tipo', type(elemento))"
      ],
      "metadata": {
        "colab": {
          "base_uri": "https://localhost:8080/"
        },
        "id": "7rWEkjAYL-YK",
        "outputId": "8ce7987e-ba0a-4c7b-b972-4a6cf82ecb11"
      },
      "execution_count": null,
      "outputs": [
        {
          "output_type": "stream",
          "name": "stdout",
          "text": [
            "El elemento {elemento}de la lista es del tipo <class 'str'>\n",
            "El elemento {elemento}de la lista es del tipo <class 'int'>\n",
            "El elemento {elemento}de la lista es del tipo <class 'bool'>\n",
            "El elemento {elemento}de la lista es del tipo <class 'str'>\n"
          ]
        }
      ]
    },
    {
      "cell_type": "markdown",
      "source": [
        "#Importando una biblioteca"
      ],
      "metadata": {
        "id": "wnN-nbblRvzN"
      }
    },
    {
      "cell_type": "code",
      "source": [
        "from random import randrange, seed"
      ],
      "metadata": {
        "id": "W-jMM_CKR1WF"
      },
      "execution_count": 9,
      "outputs": []
    },
    {
      "cell_type": "code",
      "source": [
        "randrange(0,11)"
      ],
      "metadata": {
        "colab": {
          "base_uri": "https://localhost:8080/"
        },
        "id": "RK2xlNEBSD3q",
        "outputId": "a91bab9a-ab41-42e7-bd42-d3a3065c6050"
      },
      "execution_count": 10,
      "outputs": [
        {
          "output_type": "execute_result",
          "data": {
            "text/plain": [
              "10"
            ]
          },
          "metadata": {},
          "execution_count": 10
        }
      ]
    },
    {
      "cell_type": "code",
      "source": [
        "notas_matematicas =[]"
      ],
      "metadata": {
        "id": "NNyg3EJITBL-"
      },
      "execution_count": 11,
      "outputs": []
    },
    {
      "cell_type": "code",
      "source": [
        "notas_matematicas.append(randrange(0,11))"
      ],
      "metadata": {
        "id": "-5sxNH2MTSX1"
      },
      "execution_count": 12,
      "outputs": []
    },
    {
      "cell_type": "code",
      "source": [
        "notas_matematicas"
      ],
      "metadata": {
        "colab": {
          "base_uri": "https://localhost:8080/"
        },
        "id": "KSc4EaS5SYxJ",
        "outputId": "a4c41c7d-d5a2-4623-b7a1-1664343b972f"
      },
      "execution_count": null,
      "outputs": [
        {
          "output_type": "execute_result",
          "data": {
            "text/plain": [
              "[9, 8, 1, 9]"
            ]
          },
          "metadata": {},
          "execution_count": 45
        }
      ]
    },
    {
      "cell_type": "code",
      "source": [
        "notas_matematicas = []\n",
        "seed(8)\n",
        "for notas in range(6):\n",
        "  notas_matematicas.append(randrange(0,11))"
      ],
      "metadata": {
        "id": "drxAuIh9Thcq"
      },
      "execution_count": 13,
      "outputs": []
    },
    {
      "cell_type": "code",
      "source": [
        "notas_matematicas"
      ],
      "metadata": {
        "colab": {
          "base_uri": "https://localhost:8080/"
        },
        "id": "FZ0Dv0ZBUMNP",
        "outputId": "8194b23a-a277-4353-e866-002d5b8639c6"
      },
      "execution_count": 14,
      "outputs": [
        {
          "output_type": "execute_result",
          "data": {
            "text/plain": [
              "[3, 5, 6, 2, 3, 0]"
            ]
          },
          "metadata": {},
          "execution_count": 14
        }
      ]
    },
    {
      "cell_type": "code",
      "source": [
        "len(notas_matematicas)"
      ],
      "metadata": {
        "colab": {
          "base_uri": "https://localhost:8080/"
        },
        "id": "wLmEDu7yUPHC",
        "outputId": "11eff89e-6591-40f5-e732-498df79a89d0"
      },
      "execution_count": null,
      "outputs": [
        {
          "output_type": "execute_result",
          "data": {
            "text/plain": [
              "6"
            ]
          },
          "metadata": {},
          "execution_count": 51
        }
      ]
    },
    {
      "cell_type": "markdown",
      "source": [
        "#Biblioteca Matplotlib para gráficos\n",
        "\n"
      ],
      "metadata": {
        "id": "9nqEBEI2XQYV"
      }
    },
    {
      "cell_type": "code",
      "source": [
        "import matplotlib.pyplot as plt"
      ],
      "metadata": {
        "id": "VK1dNxZrXWI9"
      },
      "execution_count": 15,
      "outputs": []
    },
    {
      "cell_type": "code",
      "source": [
        "list(range(1,7))"
      ],
      "metadata": {
        "id": "gls6yceWYI1M",
        "colab": {
          "base_uri": "https://localhost:8080/"
        },
        "outputId": "7f35e82e-72be-43a2-b7c1-794701d2f7ee"
      },
      "execution_count": 16,
      "outputs": [
        {
          "output_type": "execute_result",
          "data": {
            "text/plain": [
              "[1, 2, 3, 4, 5, 6]"
            ]
          },
          "metadata": {},
          "execution_count": 16
        }
      ]
    },
    {
      "cell_type": "code",
      "source": [
        "x = list(range(1,7))\n",
        "y = notas_matematicas"
      ],
      "metadata": {
        "id": "oMaPKijNZegT"
      },
      "execution_count": 17,
      "outputs": []
    },
    {
      "cell_type": "code",
      "source": [
        "x"
      ],
      "metadata": {
        "colab": {
          "base_uri": "https://localhost:8080/"
        },
        "id": "-VjNzMWYZ5zg",
        "outputId": "fbc93ef3-defb-4139-eaf7-f2e4e500bd8b"
      },
      "execution_count": 18,
      "outputs": [
        {
          "output_type": "execute_result",
          "data": {
            "text/plain": [
              "[1, 2, 3, 4, 5, 6]"
            ]
          },
          "metadata": {},
          "execution_count": 18
        }
      ]
    },
    {
      "cell_type": "code",
      "source": [
        "y"
      ],
      "metadata": {
        "colab": {
          "base_uri": "https://localhost:8080/"
        },
        "id": "FCZnA9aZZ7Qa",
        "outputId": "27cc2334-a4af-45c2-bc7d-01e2c5aba8eb"
      },
      "execution_count": 19,
      "outputs": [
        {
          "output_type": "execute_result",
          "data": {
            "text/plain": [
              "[3, 5, 6, 2, 3, 0]"
            ]
          },
          "metadata": {},
          "execution_count": 19
        }
      ]
    },
    {
      "cell_type": "code",
      "source": [
        "plt.plot(x,y, marker = 'o')\n",
        "plt.title('Grafico de las notas de matematicas')\n",
        "plt.xlabel('Pruebas')\n",
        "plt.ylabel('Notas')\n",
        "plt.show()"
      ],
      "metadata": {
        "colab": {
          "base_uri": "https://localhost:8080/",
          "height": 472
        },
        "id": "vc08Q53pZ-Xh",
        "outputId": "bfa39fca-4109-43fa-ef42-f0e7f2844906"
      },
      "execution_count": 26,
      "outputs": [
        {
          "output_type": "display_data",
          "data": {
            "text/plain": [
              "<Figure size 640x480 with 1 Axes>"
            ],
            "image/png": "[encoded data removed]"
          },
          "metadata": {}
        }
      ]
    },
    {
      "cell_type": "code",
      "source": [],
      "metadata": {
        "id": "PRtpt8l9aHnK"
      },
      "execution_count": null,
      "outputs": []
    }
  ]
}